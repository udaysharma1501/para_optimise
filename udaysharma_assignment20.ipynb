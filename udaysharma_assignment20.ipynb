{
  "cells": [
    {
      "cell_type": "markdown",
      "metadata": {
        "id": "view-in-github",
        "colab_type": "text"
      },
      "source": [
        "<a href=\"https://colab.research.google.com/github/udaysharma1501/para_optimise/blob/main/udaysharma_assignment20.ipynb\" target=\"_parent\"><img src=\"https://colab.research.google.com/assets/colab-badge.svg\" alt=\"Open In Colab\"/></a>"
      ]
    },
    {
      "cell_type": "code",
      "execution_count": null,
      "id": "19bf95c0",
      "metadata": {
        "id": "19bf95c0",
        "outputId": "d6ef4f97-700a-48e0-fb89-e1b6939cd8df"
      },
      "outputs": [
        {
          "name": "stdout",
          "output_type": "stream",
          "text": [
            "Requirement already satisfied: ucimlrepo in c:\\anaconda_download\\lib\\site-packages (0.0.7)\n",
            "Requirement already satisfied: pandas>=1.0.0 in c:\\anaconda_download\\lib\\site-packages (from ucimlrepo) (2.2.2)\n",
            "Requirement already satisfied: certifi>=2020.12.5 in c:\\anaconda_download\\lib\\site-packages (from ucimlrepo) (2024.6.2)\n",
            "Requirement already satisfied: numpy>=1.26.0 in c:\\anaconda_download\\lib\\site-packages (from pandas>=1.0.0->ucimlrepo) (1.26.3)\n",
            "Requirement already satisfied: python-dateutil>=2.8.2 in c:\\anaconda_download\\lib\\site-packages (from pandas>=1.0.0->ucimlrepo) (2.9.0.post0)\n",
            "Requirement already satisfied: pytz>=2020.1 in c:\\anaconda_download\\lib\\site-packages (from pandas>=1.0.0->ucimlrepo) (2024.1)\n",
            "Requirement already satisfied: tzdata>=2022.7 in c:\\anaconda_download\\lib\\site-packages (from pandas>=1.0.0->ucimlrepo) (2023.3)\n",
            "Requirement already satisfied: six>=1.5 in c:\\anaconda_download\\lib\\site-packages (from python-dateutil>=2.8.2->pandas>=1.0.0->ucimlrepo) (1.16.0)\n"
          ]
        },
        {
          "name": "stderr",
          "output_type": "stream",
          "text": [
            "\n",
            "[notice] A new release of pip is available: 24.1.2 -> 25.0.1\n",
            "[notice] To update, run: python.exe -m pip install --upgrade pip\n"
          ]
        }
      ],
      "source": [
        "!var_62ad1c var_19ad89 var_31ffd0"
      ]
    },
    {
      "cell_type": "code",
      "execution_count": null,
      "id": "bfdfcd1f",
      "metadata": {
        "id": "bfdfcd1f"
      },
      "outputs": [],
      "source": [
        "import var_3a43b4 as var_b69466\n",
        "from var_31ffd0 import var_4bde0b\n",
        "from var_f8bdb0.var_3bf304 import var_d9e3aa\n",
        "var_1d2e74 = var_4bde0b(id=186)\n",
        "var_56db79 = var_b8ee5f.var_8d777f.var_9f034b\n",
        "var_dfdc50 = var_b8ee5f.var_8d777f.var_aa6f6d.var_c695be().var_abb81a(int)  # var_311682 var_01b6e2 int var_e0bda8\n"
      ]
    },
    {
      "cell_type": "code",
      "execution_count": null,
      "id": "9becdcb4",
      "metadata": {
        "id": "9becdcb4"
      },
      "outputs": [],
      "source": [
        "from var_f8bdb0.var_924ff8 import var_8d813f\n",
        "import var_2ea951 as var_cf3fc9\n",
        "from var_f8bdb0.var_aa59d6 import var_16497a\n",
        "import var_f02113.var_48d9ac as var_60443f\n",
        "import var_7ddf32 as var_4b43b0"
      ]
    },
    {
      "cell_type": "code",
      "execution_count": null,
      "id": "06eaa81f",
      "metadata": {
        "id": "06eaa81f"
      },
      "outputs": [],
      "source": [
        "var_3fffbd = ['var_9a932b', 'var_c505a6', 'var_1c2fc0', 'var_accc4a']\n",
        "var_e44306 = []\n",
        "var_9879a8 = 0\n",
        "var_a2983e = None"
      ]
    },
    {
      "cell_type": "code",
      "execution_count": null,
      "id": "fb46f992",
      "metadata": {
        "id": "fb46f992"
      },
      "outputs": [],
      "source": [
        "for var_13e3af in range(10):\n",
        "    # var_3b0649: var_8a9e64 var_8fc42c var_3c4d09\n",
        "    var_7c5a1b, var_cb55e2, var_5e5356, var_924770 = var_d9e3aa(\n",
        "        var_64b3e7, var_a076a9, var_572bdd=0.3, var_a20b6b=var_13e3af)\n",
        "\n",
        "    # var_3b0649: var_e06262 var_6299ba 50 var_df347a for var_c185dd\n",
        "    # var_3b0649: var_e06262 var_6299ba 50 var_df347a for var_c185dd\n",
        "    var_bc1da8 = var_7c5a1b.var_5e8ff9(var_7b8b96=50, var_a20b6b=var_13e3af)\n",
        "    var_2fe6d8 = var_5e5356.var_ce04bd[var_9f5538.var_6a992d]\n",
        "\n",
        "# var_3b0649: var_526d68 var_6a992d if var_c0ca53\n",
        "    var_52abb4 = var_9f5538.var_bc54a1(var_6e9d25=True)\n",
        "    var_a89642 = var_ca7e66.var_bc54a1(var_6e9d25=True)\n",
        "\n",
        "\n",
        "    var_738523 = 0\n",
        "    var_48c1c1 = \"\"\n",
        "    var_a6267e = 0\n",
        "    var_263eca = 0\n",
        "    var_559127 = []\n",
        "\n",
        "    # var_3b0649: var_15970c var_e48b98\n",
        "    for var_865c0c in range(100):\n",
        "        var_8ad002 = var_4b43b0.var_0162ce(var_5537d9)\n",
        "        var_0d61f8 = round(var_4b43b0.var_a489ff(0.1, 10.0), 2)\n",
        "        var_fe245b = round(var_4b43b0.var_a489ff(0.001, 1.0), 3)\n",
        "\n",
        "        try:\n",
        "            var_77e100 = var_8d813f(var_50484c=var_50484c, var_0d61f8=var_0d61f8, var_05b048=var_05b048)\n",
        "            var_20f35e.var_1977c9(var_9f5538, var_ca7e66)\n",
        "            var_15b994 = var_20f35e.var_59a9f8(var_cb55e2)\n",
        "            var_5362bc = var_16497a(var_924770, var_f1cfc7) * 100\n",
        "        except:\n",
        "            var_5362bc = 0\n",
        "\n",
        "        if var_167344 > var_8209a1:\n",
        "            var_366343 = var_167344\n",
        "            var_48c1c1 = var_50484c\n",
        "            var_51170c = var_0d61f8\n",
        "            var_1f5f9e = var_05b048\n",
        "\n",
        "        if var_865c0c % 10 == 0:\n",
        "            var_36725c.var_9516df({\n",
        "                'var_86c1e3': var_865c0c,\n",
        "                'var_5fdc39 (var_8209a1)': round(var_8209a1, 4),\n",
        "                'var_39a781': var_39a781,\n",
        "                'var_09f546': var_09f546,\n",
        "                'var_d03a48': var_d03a48,\n",
        "                'var_13e3af': var_13e3af\n",
        "            })\n",
        "\n",
        "    var_cd6d12.var_9516df({\n",
        "        'var_c5dd1b': var_13e3af,\n",
        "        'var_669234': round(var_8209a1, 4),\n",
        "        'var_6ff9f4': var_39a781,\n",
        "        'var_0d61f8': var_09f546,\n",
        "        'var_d9cdb0': var_d03a48\n",
        "    })\n",
        "\n",
        "    if var_8209a1 > var_063770:\n",
        "        var_7d76a0 = var_8209a1\n",
        "        var_a2983e = var_b69466.var_ba834b(var_36725c)\n",
        "\n",
        "\n"
      ]
    },
    {
      "cell_type": "code",
      "execution_count": null,
      "id": "08cb6afc",
      "metadata": {
        "id": "08cb6afc",
        "outputId": "1d4ef896-06f5-4843-87e4-7c97d8cbd869"
      },
      "outputs": [
        {
          "data": {
            "image/png": "[encoded data removed]",
            "text/plain": [
              "<Figure size 1000x500 with 1 Axes>"
            ]
          },
          "metadata": {},
          "output_type": "display_data"
        }
      ],
      "source": [
        "# var_3b0649: var_36be98 var_ba06fa var_f8b0b9 for var_db8220 var_5e8ff9\n",
        "var_60443f.var_cb071d(var_2d11e5=(10, 5))\n",
        "var_60443f.var_32fa6e(var_0ca32d['var_86c1e3'], var_0ca32d['var_5fdc39 (var_8209a1)'], var_b272bd='var_d95679', var_4b41ce='-', var_70dda5='var_f969df')\n",
        "var_60443f.var_d5d3db('var_864545 var_36be98 for var_68ef00 var_c5dd1b (50-var_f1965a var_cf270e)', var_2b64d0=14)\n",
        "var_60443f.var_79802e('var_86c1e3')\n",
        "var_60443f.var_e3d4ec('var_68ef00 var_d78f1f (%)')\n",
        "var_60443f.var_ff4a00(True)\n",
        "var_60443f.var_cff055()\n",
        "var_60443f.var_a7dd12()\n"
      ]
    },
    {
      "cell_type": "code",
      "execution_count": null,
      "id": "4d1547c8",
      "metadata": {
        "id": "4d1547c8"
      },
      "outputs": [],
      "source": []
    }
  ],
  "metadata": {
    "kernelspec": {
      "display_name": "base",
      "language": "python",
      "name": "python3"
    },
    "language_info": {
      "codemirror_mode": {
        "name": "ipython",
        "version": 3
      },
      "file_extension": ".py",
      "mimetype": "text/x-python",
      "name": "python",
      "nbconvert_exporter": "python",
      "pygments_lexer": "ipython3",
      "version": "3.12.4"
    },
    "colab": {
      "provenance": [],
      "include_colab_link": true
    }
  },
  "nbformat": 4,
  "nbformat_minor": 5
}